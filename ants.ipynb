{
 "cells": [
  {
   "cell_type": "markdown",
   "metadata": {},
   "source": [
    "# ~~broken~~ SCACO for TSP \n",
    "Made by [Kishkenebayeva Altynay](https://github.com/Cupcakeiris) & Shamitova Lazzat for Optimization classes | Fall 2024\n",
    "\n",
    "Using this cool [paper](https://www.researchgate.net/publication/228617274_Improved_ant_colony_optimization_algorithm_for_the_traveling_salesman_problems) for the realization"
   ]
  },
  {
   "cell_type": "markdown",
   "metadata": {},
   "source": [
    "### Initialization"
   ]
  },
  {
   "cell_type": "markdown",
   "metadata": {},
   "source": [
    "Libraries"
   ]
  },
  {
   "cell_type": "code",
   "execution_count": 220,
   "metadata": {},
   "outputs": [],
   "source": [
    "import numpy as np\n",
    "import pandas as pd\n",
    "from numba import njit\n",
    "import matplotlib.pyplot as plt\n",
    "import time\n",
    "from scipy.stats import zscore\n",
    "import os"
   ]
  },
  {
   "cell_type": "code",
   "execution_count": 221,
   "metadata": {},
   "outputs": [],
   "source": [
    "real_solution = 9352\n",
    "start_time = time.time()"
   ]
  },
  {
   "cell_type": "markdown",
   "metadata": {},
   "source": [
    "Hyperparameters"
   ]
  },
  {
   "cell_type": "code",
   "execution_count": 222,
   "metadata": {},
   "outputs": [],
   "source": [
    "alpha = 2.0                 # Importance of pheromone\n",
    "beta = 4.0                  # Importance of visibility (1/distance)\n",
    "evaporation_rate = 0.95     # Pheromone evaporation rate\n",
    "num_ants = 10\n",
    "scout_rate = 0.2            # Fraction of ants that are scouts\n",
    "num_scouts = int(num_ants * scout_rate)\n",
    "num_iterations = 3000\n",
    "real_solution = 9352"
   ]
  },
  {
   "cell_type": "code",
   "execution_count": 223,
   "metadata": {},
   "outputs": [
    {
     "data": {
      "text/html": [
       "<div>\n",
       "<style scoped>\n",
       "    .dataframe tbody tr th:only-of-type {\n",
       "        vertical-align: middle;\n",
       "    }\n",
       "\n",
       "    .dataframe tbody tr th {\n",
       "        vertical-align: top;\n",
       "    }\n",
       "\n",
       "    .dataframe thead th {\n",
       "        text-align: right;\n",
       "    }\n",
       "</style>\n",
       "<table border=\"1\" class=\"dataframe\">\n",
       "  <thead>\n",
       "    <tr style=\"text-align: right;\">\n",
       "      <th></th>\n",
       "      <th>x</th>\n",
       "      <th>y</th>\n",
       "    </tr>\n",
       "  </thead>\n",
       "  <tbody>\n",
       "    <tr>\n",
       "      <th>count</th>\n",
       "      <td>194.000000</td>\n",
       "      <td>194.000000</td>\n",
       "    </tr>\n",
       "    <tr>\n",
       "      <th>mean</th>\n",
       "      <td>25555.658645</td>\n",
       "      <td>51292.371134</td>\n",
       "    </tr>\n",
       "    <tr>\n",
       "      <th>std</th>\n",
       "      <td>330.297453</td>\n",
       "      <td>201.368050</td>\n",
       "    </tr>\n",
       "    <tr>\n",
       "      <th>min</th>\n",
       "      <td>24748.333300</td>\n",
       "      <td>50766.666700</td>\n",
       "    </tr>\n",
       "    <tr>\n",
       "      <th>25%</th>\n",
       "      <td>25283.888875</td>\n",
       "      <td>51159.236100</td>\n",
       "    </tr>\n",
       "    <tr>\n",
       "      <th>50%</th>\n",
       "      <td>25493.611100</td>\n",
       "      <td>51322.361150</td>\n",
       "    </tr>\n",
       "    <tr>\n",
       "      <th>75%</th>\n",
       "      <td>25855.000025</td>\n",
       "      <td>51457.430575</td>\n",
       "    </tr>\n",
       "    <tr>\n",
       "      <th>max</th>\n",
       "      <td>26150.277800</td>\n",
       "      <td>51619.166700</td>\n",
       "    </tr>\n",
       "  </tbody>\n",
       "</table>\n",
       "</div>"
      ],
      "text/plain": [
       "                  x             y\n",
       "count    194.000000    194.000000\n",
       "mean   25555.658645  51292.371134\n",
       "std      330.297453    201.368050\n",
       "min    24748.333300  50766.666700\n",
       "25%    25283.888875  51159.236100\n",
       "50%    25493.611100  51322.361150\n",
       "75%    25855.000025  51457.430575\n",
       "max    26150.277800  51619.166700"
      ]
     },
     "execution_count": 223,
     "metadata": {},
     "output_type": "execute_result"
    }
   ],
   "source": [
    "df = pd.read_csv('qa194.csv', sep=' ')\n",
    "df.describe()"
   ]
  },
  {
   "cell_type": "code",
   "execution_count": 224,
   "metadata": {},
   "outputs": [],
   "source": [
    "# To work with \"dimensionless\" data to find the best route. Then find total distance of this route\n",
    "df[['x', 'y']] = df[['x', 'y']].apply(zscore)\n",
    "coordinates = df[['x', 'y']].to_numpy() "
   ]
  },
  {
   "cell_type": "markdown",
   "metadata": {},
   "source": [
    "### The hell"
   ]
  },
  {
   "cell_type": "markdown",
   "metadata": {},
   "source": [
    "I/O for last best path"
   ]
  },
  {
   "cell_type": "code",
   "execution_count": 225,
   "metadata": {},
   "outputs": [],
   "source": [
    "def read_best_path(filename='best_path.txt'):\n",
    "    if os.path.exists(filename):\n",
    "        return np.loadtxt(filename, dtype=np.int32)\n",
    "    else:\n",
    "        return None \n",
    "    \n",
    "def save_best_path(best_path, filename='best_path.txt'):\n",
    "    np.savetxt(filename, best_path, fmt='%d')"
   ]
  },
  {
   "cell_type": "code",
   "execution_count": 226,
   "metadata": {
    "vscode": {
     "languageId": "latex"
    }
   },
   "outputs": [
    {
     "data": {
      "text/latex": [
       "\\begin{align}\n",
       "    p_{ir}^k = \\begin{cases}\n",
       "        \\frac{\\tau_{ir}^\\alpha(t) \\eta_{ir}^\\beta(t)}{\\sum_{l \\neq tabu} \\tau_{il}^\\alpha(t) \\eta_{il}^\\beta(t)} \\cdot \\left( (r \\notin tabu) \\cap (p < M_{ir}) \\cap (d_{ir} \\leq d_{ij}) \\right) \\\\\n",
       "        0, (r \\in tabu) \\cup (r \\notin tabu \\cap (p \\geq M_{ir}))\n",
       "    \\end{cases} \\tag{9}\n",
       "\\end{align}\n",
       "\n",
       "But ignore $$M_{ir}$$ since we don't apply it in this lab\n"
      ],
      "text/plain": [
       "<IPython.core.display.Latex object>"
      ]
     },
     "metadata": {},
     "output_type": "display_data"
    }
   ],
   "source": [
    "%%latex\n",
    "\\begin{align}\n",
    "    p_{ir}^k = \\begin{cases}\n",
    "        \\frac{\\tau_{ir}^\\alpha(t) \\eta_{ir}^\\beta(t)}{\\sum_{l \\neq tabu} \\tau_{il}^\\alpha(t) \\eta_{il}^\\beta(t)} \\cdot \\left( (r \\notin tabu) \\cap (p < M_{ir}) \\cap (d_{ir} \\leq d_{ij}) \\right) \\\\\n",
    "        0, (r \\in tabu) \\cup (r \\notin tabu \\cap (p \\geq M_{ir}))\n",
    "    \\end{cases} \\tag{9}\n",
    "\\end{align}\n",
    "\n",
    "But ignore $$M_{ir}$$ since we don't apply it in this lab"
   ]
  },
  {
   "cell_type": "code",
   "execution_count": 227,
   "metadata": {},
   "outputs": [],
   "source": [
    "@njit\n",
    "def calculate_transition_probabilities(pheromone_matrix, dist_matrix, current_city, visited):\n",
    "    num_cities = len(pheromone_matrix)\n",
    "    pheromone = pheromone_matrix[current_city]\n",
    "    visibility = 1 / dist_matrix[current_city]\n",
    "\n",
    "    probabilities = np.zeros(num_cities)\n",
    "    for next_city in range(num_cities):\n",
    "        if visited[next_city] == 0:  # City is not visited\n",
    "            probabilities[next_city] = (pheromone[next_city] ** alpha) * (visibility[next_city] ** beta)\n",
    "\n",
    "    total = probabilities.sum()\n",
    "    if total > 0:\n",
    "        probabilities /= total  \n",
    "    else:\n",
    "        probabilities.fill(0)\n",
    "\n",
    "    return probabilities"
   ]
  },
  {
   "cell_type": "code",
   "execution_count": 228,
   "metadata": {
    "vscode": {
     "languageId": "latex"
    }
   },
   "outputs": [
    {
     "data": {
      "text/latex": [
       "\\begin{align}\n",
       "    \\tau_{ij}(t+m) &= \\rho \\tau_{ij}(t) + \\Delta \\tau_{ij}, \\quad \\rho \\in (0,1) \\tag{2} \\\\\n",
       "    \\Delta \\tau_{ij} &= \\sum_{k=1}^n \\Delta \\tau_{ij}^k \\tag{3} \\\\\n",
       "    \\Delta \\tau_{ij}^k &= \\begin{cases}\n",
       "        \\frac{Q}{L^k}, & \\text{arc }(i,j) \\text{ belongs to best tour} \\\\\n",
       "        0, & \\text{otherwise}\n",
       "    \\end{cases} \\tag{4}\n",
       "\\end{align}\n"
      ],
      "text/plain": [
       "<IPython.core.display.Latex object>"
      ]
     },
     "metadata": {},
     "output_type": "display_data"
    }
   ],
   "source": [
    "%%latex\n",
    "\\begin{align}\n",
    "    \\tau_{ij}(t+m) &= \\rho \\tau_{ij}(t) + \\Delta \\tau_{ij}, \\quad \\rho \\in (0,1) \\tag{2} \\\\\n",
    "    \\Delta \\tau_{ij} &= \\sum_{k=1}^n \\Delta \\tau_{ij}^k \\tag{3} \\\\\n",
    "    \\Delta \\tau_{ij}^k &= \\begin{cases}\n",
    "        \\frac{Q}{L^k}, & \\text{arc }(i,j) \\text{ belongs to best tour} \\\\\n",
    "        0, & \\text{otherwise}\n",
    "    \\end{cases} \\tag{4}\n",
    "\\end{align}"
   ]
  },
  {
   "cell_type": "code",
   "execution_count": 229,
   "metadata": {},
   "outputs": [],
   "source": [
    "@njit\n",
    "def update_pheromone(pheromone_matrix, all_paths, all_distances, num_cities):\n",
    "    pheromone_matrix *= (1 - evaporation_rate)  # Evaporation\n",
    "    for ant in range(len(all_paths)):\n",
    "        path = all_paths[ant]\n",
    "        distance = all_distances[ant]\n",
    "        pheromone_addition = 1 / distance\n",
    "        for i in range(num_cities):\n",
    "            pheromone_matrix[path[i], path[i + 1]] += pheromone_addition\n",
    "            pheromone_matrix[path[i + 1], path[i]] += pheromone_addition"
   ]
  },
  {
   "cell_type": "code",
   "execution_count": 230,
   "metadata": {
    "vscode": {
     "languageId": "latex"
    }
   },
   "outputs": [
    {
     "data": {
      "text/latex": [
       "For search ants{\n",
       "    Randomly choose the start of city;\n",
       "    While (NOT all city visited){\n",
       "        Calculate the following city according to (2);\n",
       "    }\n",
       "}\n"
      ],
      "text/plain": [
       "<IPython.core.display.Latex object>"
      ]
     },
     "metadata": {},
     "output_type": "display_data"
    }
   ],
   "source": [
    "%%latex\n",
    "For search ants{\n",
    "    Randomly choose the start of city;\n",
    "    While (NOT all city visited){\n",
    "        Calculate the following city according to (2);\n",
    "    }\n",
    "}"
   ]
  },
  {
   "cell_type": "code",
   "execution_count": 231,
   "metadata": {},
   "outputs": [],
   "source": [
    "@njit\n",
    "def construct_solution(pheromone_matrix, dist_matrix):\n",
    "    num_cities = len(dist_matrix)\n",
    "    start_city = np.random.randint(num_cities)\n",
    "    path = np.empty(num_cities + 1, dtype=np.int32)  \n",
    "    path[0] = start_city\n",
    "    visited = np.zeros(num_cities, dtype=np.int32)\n",
    "    visited[start_city] = 1\n",
    "\n",
    "    current_city = start_city\n",
    "    for i in range(1, num_cities):\n",
    "        probabilities = calculate_transition_probabilities(pheromone_matrix, dist_matrix, current_city, visited)\n",
    "        \n",
    "        # Select next city\n",
    "        random_value = np.random.rand()\n",
    "        cumulative_probability = 0.0\n",
    "        next_city = -1\n",
    "        for j in range(num_cities):\n",
    "            cumulative_probability += probabilities[j]\n",
    "            if random_value < cumulative_probability:\n",
    "                next_city = j\n",
    "                break\n",
    "\n",
    "        path[i] = next_city\n",
    "        visited[next_city] = 1\n",
    "        current_city = next_city\n",
    "\n",
    "    path[-1] = start_city  # Return to the start\n",
    "    return path"
   ]
  },
  {
   "cell_type": "code",
   "execution_count": 232,
   "metadata": {
    "vscode": {
     "languageId": "latex"
    }
   },
   "outputs": [
    {
     "data": {
      "text/latex": [
       "We gave up to implement formula (8), just decided to randomly shuffle the route for the mutation\n"
      ],
      "text/plain": [
       "<IPython.core.display.Latex object>"
      ]
     },
     "metadata": {},
     "output_type": "display_data"
    }
   ],
   "source": [
    "%%latex\n",
    "We gave up to implement formula (8), just decided to randomly shuffle the route for the mutation"
   ]
  },
  {
   "cell_type": "code",
   "execution_count": 233,
   "metadata": {},
   "outputs": [],
   "source": [
    "@njit\n",
    "def construct_random_solution(num_cities):\n",
    "    # Generate a random path for a scout ant (mutation)\n",
    "    path = np.arange(num_cities, dtype=np.int32)  \n",
    "    np.random.shuffle(path)\n",
    "    path = np.append(path, path[0])  \n",
    "    return path"
   ]
  },
  {
   "cell_type": "code",
   "execution_count": 234,
   "metadata": {},
   "outputs": [],
   "source": [
    "@njit\n",
    "def calculate_path_distance(path, dist_matrix):\n",
    "    total_distance = 0.0\n",
    "    for i in range(len(path) - 1):\n",
    "        total_distance += dist_matrix[path[i], path[i + 1]]\n",
    "    return total_distance"
   ]
  },
  {
   "cell_type": "code",
   "execution_count": 235,
   "metadata": {},
   "outputs": [],
   "source": [
    "@njit\n",
    "def ant_colony_optimization(dist_matrix):\n",
    "    num_cities = len(dist_matrix)\n",
    "    pheromone_matrix = np.ones((num_cities, num_cities), dtype=np.float64)\n",
    "\n",
    "    best_path = np.empty(num_cities + 1, dtype=np.int32) \n",
    "    best_distance = np.inf\n",
    "\n",
    "    all_paths = np.empty((num_ants, num_cities + 1), dtype=np.int32) \n",
    "    all_distances = np.empty(num_ants)\n",
    "\n",
    "    for iteration in range(num_iterations):\n",
    "        \n",
    "        # Each ant constructs a solution\n",
    "        for ant in range(num_ants):\n",
    "            if ant < num_scouts:\n",
    "                # Scout ant generates a random solution\n",
    "                path = construct_random_solution(num_cities)\n",
    "            else:\n",
    "                # Regular ant follows pheromone trail\n",
    "                path = construct_solution(pheromone_matrix, dist_matrix)\n",
    "            \n",
    "            distance = calculate_path_distance(path, dist_matrix)\n",
    "            all_paths[ant] = path\n",
    "            all_distances[ant] = distance\n",
    "\n",
    "            if distance < best_distance:\n",
    "                best_distance = distance\n",
    "                best_path[:] = path.copy()   \n",
    "\n",
    "        \n",
    "        update_pheromone(pheromone_matrix, all_paths, all_distances, num_cities)\n",
    "        # print(f\"Iteration {iteration + 1}, best path distance: {best_distance}\")\n",
    "\n",
    "    return best_path, best_distance"
   ]
  },
  {
   "cell_type": "code",
   "execution_count": 236,
   "metadata": {},
   "outputs": [],
   "source": [
    "@njit\n",
    "def calculate_distance_matrix(coordinates):\n",
    "    num_cities = len(coordinates)\n",
    "    dist_matrix = np.zeros((num_cities, num_cities), dtype=np.float64) \n",
    "    for i in range(num_cities):\n",
    "        for j in range(i + 1, num_cities):\n",
    "            dist_matrix[i][j] = dist_matrix[j][i] = np.sqrt((coordinates[i][0] - coordinates[j][0]) ** 2 +\n",
    "                                                            (coordinates[i][1] - coordinates[j][1]) ** 2)\n",
    "    return dist_matrix"
   ]
  },
  {
   "cell_type": "code",
   "execution_count": 237,
   "metadata": {},
   "outputs": [],
   "source": [
    "@njit\n",
    "def calculate_distance_for_given_path(coordinates, path): # To return back the \"dimension\"\n",
    "    total_distance = 0.0\n",
    "    num_cities = len(path)\n",
    "    \n",
    "    for i in range(num_cities - 1):\n",
    "        city1 = path[i]\n",
    "        city2 = path[i + 1]\n",
    "        \n",
    "        dx = coordinates[city1, 0] - coordinates[city2, 0]\n",
    "        dy = coordinates[city1, 1] - coordinates[city2, 1]\n",
    "        distance = np.sqrt(dx * dx + dy * dy)\n",
    "        \n",
    "        total_distance += distance\n",
    "    \n",
    "    start_city = path[0]\n",
    "    end_city = path[-1]\n",
    "    dx = coordinates[start_city, 0] - coordinates[end_city, 0]\n",
    "    dy = coordinates[start_city, 1] - coordinates[end_city, 1]\n",
    "    total_distance += np.sqrt(dx * dx + dy * dy)\n",
    "    \n",
    "    return total_distance\n"
   ]
  },
  {
   "cell_type": "markdown",
   "metadata": {},
   "source": [
    "### The result"
   ]
  },
  {
   "cell_type": "markdown",
   "metadata": {},
   "source": [
    "Return back the \"dimensions\""
   ]
  },
  {
   "cell_type": "code",
   "execution_count": 238,
   "metadata": {},
   "outputs": [],
   "source": [
    "df = pd.read_csv('qa194.csv', sep=' ')\n",
    "coordinates = df[['x', 'y']].to_numpy() "
   ]
  },
  {
   "cell_type": "code",
   "execution_count": 239,
   "metadata": {},
   "outputs": [
    {
     "name": "stdout",
     "output_type": "stream",
     "text": [
      "Using previous best path as initial solution.\n",
      "Best path: [150 153 157 154 139 138 149 146 142 137 140 145 156 161 163 164 183 186\n",
      " 187 190 194 182 176 169 172 179 173 174 175 181 177 184 189 191 192 188\n",
      " 193 185 180 178 168 165 159 158 162 167 170 171 166 160 151 155 148 143\n",
      " 136 131 129 135 133 124 123 128 120 121 117 116 115 112 110 107 108 105\n",
      " 106 118 122 119 114 113 109 102 103  91  93  96  95  97  92  88  83  81\n",
      "  79  77  84 100  21  18  24  26  17  14  11   7   4   2   3   5   9  10\n",
      "  12  15  19  50  55  49  46  48  53  52  54  44  42  30  32  35  31  38\n",
      "  41  43  40  34  39  47  51  58  56  61  67  66  73  68  70  64  57  45\n",
      "  37  27  22  29  28  33  60  69  74  72  75  78  76  87  80  71  25  23\n",
      "  13  16   8   6   1  20  65  63  36  59  62  82  89  90  94  99 101 104\n",
      " 111  98  86  85 130 134 132 127 125 126 144 141 152 147 150]\n",
      "Best path distance: 10312.19597821518\n",
      "Error rate compared to real solution: 0.1026727949331887\n",
      "Time taken: 10.80647349357605\n"
     ]
    }
   ],
   "source": [
    "initial_path = read_best_path()\n",
    "if initial_path is not None:\n",
    "    print(\"Using previous best path as initial solution.\")\n",
    "else:\n",
    "    initial_path = construct_random_solution(len(coordinates))\n",
    "\n",
    "dist_matrix = calculate_distance_matrix(coordinates)\n",
    "\n",
    "best_path, _ = ant_colony_optimization(dist_matrix)\n",
    "best_distance = calculate_distance_for_given_path(coordinates, best_path)\n",
    "\n",
    "print(\"Best path:\", best_path + 1)\n",
    "print(\"Best path distance:\", best_distance)\n",
    "print(\"Error rate compared to real solution:\", (best_distance - real_solution) / real_solution)\n",
    "print(\"Time taken:\", time.time() - start_time)"
   ]
  },
  {
   "cell_type": "markdown",
   "metadata": {},
   "source": [
    "### Some extra"
   ]
  },
  {
   "cell_type": "markdown",
   "metadata": {},
   "source": [
    "The most precise result we got (same params, 200k iterations, 52 min, 6th attempt)"
   ]
  },
  {
   "cell_type": "markdown",
   "metadata": {},
   "source": [
    "![record](record.png)"
   ]
  },
  {
   "cell_type": "markdown",
   "metadata": {},
   "source": [
    "I've been using VSCode since 9th grade, it never has crashed in my life until this lab (c) Altynay "
   ]
  },
  {
   "cell_type": "markdown",
   "metadata": {},
   "source": [
    "![hell](crash.png)"
   ]
  }
 ],
 "metadata": {
  "kernelspec": {
   "display_name": "base",
   "language": "python",
   "name": "python3"
  },
  "language_info": {
   "codemirror_mode": {
    "name": "ipython",
    "version": 3
   },
   "file_extension": ".py",
   "mimetype": "text/x-python",
   "name": "python",
   "nbconvert_exporter": "python",
   "pygments_lexer": "ipython3",
   "version": "3.11.7"
  }
 },
 "nbformat": 4,
 "nbformat_minor": 2
}
